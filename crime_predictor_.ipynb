{
  "cells": [
    {
      "cell_type": "markdown",
      "metadata": {
        "id": "view-in-github",
        "colab_type": "text"
      },
      "source": [
        "<a href=\"https://colab.research.google.com/github/massmithun007/Project/blob/main/crime_predictor_.ipynb\" target=\"_parent\"><img src=\"https://colab.research.google.com/assets/colab-badge.svg\" alt=\"Open In Colab\"/></a>"
      ]
    },
    {
      "cell_type": "code",
      "execution_count": null,
      "metadata": {
        "colab": {
          "base_uri": "https://localhost:8080/"
        },
        "id": "N3y1wmpnLpIN",
        "outputId": "95134c73-0fc8-4459-fac0-720fa25efc45"
      },
      "outputs": [
        {
          "output_type": "stream",
          "name": "stdout",
          "text": [
            "   Crime ID  Crime Type   Latitude  Longitude        Date and Time  Severity  \\\n",
            "0         1           1  11.057173  77.066438  2018-06-25 17:25:00         3   \n",
            "1         2           4  10.999253  76.918450  2015-05-16 02:09:00         2   \n",
            "2         3           2  10.950076  76.947931  2020-02-06 22:59:00         2   \n",
            "3         4           1  10.937317  76.924746  2015-03-11 06:22:00         1   \n",
            "4         5           3  10.973344  76.991367  2023-02-20 01:02:00         3   \n",
            "\n",
            "   Area  Victims Weather Crime Outcome  \n",
            "0     3        5   Foggy   In-progress  \n",
            "1     5        5   Foggy   In-progress  \n",
            "2     3        3   Foggy      Resolved  \n",
            "3     3        1   Foggy    Unresolved  \n",
            "4     1        1  Cloudy   In-progress  \n"
          ]
        }
      ],
      "source": [
        "from sklearn.preprocessing import LabelEncoder\n",
        "\n",
        "# Initialize label encoders\n",
        "le_crime_type = LabelEncoder()\n",
        "le_area = LabelEncoder()\n",
        "\n",
        "# Check and encode categorical columns\n",
        "if 'Crime Type' in crime_data.columns:\n",
        "    crime_data['Crime Type'] = le_crime_type.fit_transform(crime_data['Crime Type'])\n",
        "if 'Area' in crime_data.columns:\n",
        "    crime_data['Area'] = le_area.fit_transform(crime_data['Area'])\n",
        "\n",
        "# Display the updated dataset\n",
        "print(crime_data.head())\n"
      ]
    },
    {
      "cell_type": "code",
      "source": [
        "# Print unique values for categorical columns\n",
        "print(\"Unique values in 'Crime Outcome':\", crime_data['Crime Outcome'].unique() if 'Crime Outcome' in crime_data.columns else \"Column not found.\")\n",
        "print(\"Unique values in 'Crime Type':\", crime_data['Crime Type'].unique() if 'Crime Type' in crime_data.columns else \"Column not found.\")\n",
        "print(\"Unique values in 'Area':\", crime_data['Area'].unique() if 'Area' in crime_data.columns else \"Column not found.\")\n"
      ],
      "metadata": {
        "id": "ONXN-NZCUQZB"
      },
      "execution_count": null,
      "outputs": []
    },
    {
      "cell_type": "code",
      "execution_count": null,
      "metadata": {
        "colab": {
          "base_uri": "https://localhost:8080/"
        },
        "id": "Ua1LYlCHLzlk",
        "outputId": "e57543a5-2ceb-4342-ff3f-84b55b01ab98"
      },
      "outputs": [
        {
          "output_type": "stream",
          "name": "stdout",
          "text": [
            "Training data size: (6400, 9)\n",
            "Test data size: (1600, 9)\n"
          ]
        }
      ],
      "source": [
        "from sklearn.model_selection import train_test_split\n",
        "\n",
        "# Define your features (X) and target variable (y)\n",
        "X = crime_data.drop(\"Crime Outcome\", axis=1)  # All columns except 'Crime Outcome'\n",
        "y = crime_data[\"Crime Outcome\"]  # Target variable\n",
        "\n",
        "# Split the data\n",
        "X_train, X_test, y_train, y_test = train_test_split(X, y, test_size=0.2, random_state=42)\n",
        "\n",
        "# Show the sizes of the splits\n",
        "print(f\"Training data size: {X_train.shape}\")\n",
        "print(f\"Test data size: {X_test.shape}\")\n"
      ]
    },
    {
      "cell_type": "code",
      "execution_count": null,
      "metadata": {
        "colab": {
          "base_uri": "https://localhost:8080/"
        },
        "id": "NjrWNaxXMSCa",
        "outputId": "34d359f8-451c-4d72-e85e-ef4555d3b293"
      },
      "outputs": [
        {
          "output_type": "stream",
          "name": "stdout",
          "text": [
            "Columns in dataset: Index(['Crime ID', 'Crime Type', 'Latitude', 'Longitude', 'Date and Time',\n",
            "       'Severity', 'Area', 'Victims', 'Weather', 'Crime Outcome'],\n",
            "      dtype='object')\n",
            "Missing values in dataset:\n",
            "Crime ID         0\n",
            "Crime Type       0\n",
            "Latitude         0\n",
            "Longitude        0\n",
            "Date and Time    0\n",
            "Severity         0\n",
            "Area             0\n",
            "Victims          0\n",
            "Weather          0\n",
            "Crime Outcome    0\n",
            "dtype: int64\n",
            "Training data size: (6400, 9)\n",
            "Test data size: (1600, 9)\n",
            "Training and testing data saved to 'crime_data_train.csv' and 'crime_data_test.csv'.\n"
          ]
        }
      ],
      "source": [
        "import pandas as pd\n",
        "from sklearn.model_selection import train_test_split\n",
        "from sklearn.preprocessing import LabelEncoder\n",
        "\n",
        "# Load the dataset\n",
        "crime_data = pd.read_csv(\"/content/drive/MyDrive/crime predictor/synthetic_crime_data_coimbatore.csv\")\n",
        "\n",
        "# Check for missing values and print column names\n",
        "print(\"Columns in dataset:\", crime_data.columns)\n",
        "print(\"Missing values in dataset:\")\n",
        "print(crime_data.isnull().sum())\n",
        "\n",
        "# Define your features (X) and target variable (y)\n",
        "X = crime_data.drop(\"Crime Outcome\", axis=1)  # All columns except 'Crime Outcome'\n",
        "y = crime_data[\"Crime Outcome\"]  # Target variable\n",
        "\n",
        "# Initialize label encoders for categorical columns\n",
        "le_crime_type = LabelEncoder()\n",
        "le_area = LabelEncoder()\n",
        "\n",
        "# Encode categorical variables\n",
        "if 'Crime Type' in X.columns:\n",
        "    X['Crime Type'] = le_crime_type.fit_transform(X['Crime Type'])\n",
        "if 'Area' in X.columns:\n",
        "    X['Area'] = le_area.fit_transform(X['Area'])\n",
        "\n",
        "# Split the data: 80% training and 20% testing\n",
        "X_train, X_test, y_train, y_test = train_test_split(X, y, test_size=0.2, random_state=42)\n",
        "\n",
        "# Show the sizes of the splits\n",
        "print(f\"Training data size: {X_train.shape}\")\n",
        "print(f\"Test data size: {X_test.shape}\")\n",
        "\n",
        "# Combine X_train with y_train to save as a single CSV\n",
        "train_data = pd.concat([X_train, y_train.reset_index(drop=True)], axis=1)\n",
        "test_data = pd.concat([X_test, y_test.reset_index(drop=True)], axis=1)\n",
        "\n",
        "# Save the training and testing data to CSV files\n",
        "train_data.to_csv(\"crime_data_train.csv\", index=False)\n",
        "test_data.to_csv(\"crime_data_test.csv\", index=False)\n",
        "\n",
        "print(\"Training and testing data saved to 'crime_data_train.csv' and 'crime_data_test.csv'.\")\n"
      ]
    },
    {
      "cell_type": "code",
      "execution_count": null,
      "metadata": {
        "colab": {
          "base_uri": "https://localhost:8080/"
        },
        "id": "rojPrWQ5LSF3",
        "outputId": "87a01a9b-b31f-4b28-c36b-4a98fdae756e"
      },
      "outputs": [
        {
          "output_type": "stream",
          "name": "stdout",
          "text": [
            "Current Directory: /content\n",
            "File Exists: True\n",
            "<class 'pandas.core.frame.DataFrame'>\n",
            "RangeIndex: 8000 entries, 0 to 7999\n",
            "Data columns (total 10 columns):\n",
            " #   Column         Non-Null Count  Dtype  \n",
            "---  ------         --------------  -----  \n",
            " 0   Crime ID       8000 non-null   int64  \n",
            " 1   Crime Type     8000 non-null   object \n",
            " 2   Latitude       8000 non-null   float64\n",
            " 3   Longitude      8000 non-null   float64\n",
            " 4   Date and Time  8000 non-null   object \n",
            " 5   Severity       8000 non-null   int64  \n",
            " 6   Area           8000 non-null   object \n",
            " 7   Victims        8000 non-null   int64  \n",
            " 8   Weather        8000 non-null   object \n",
            " 9   Crime Outcome  8000 non-null   object \n",
            "dtypes: float64(2), int64(3), object(5)\n",
            "memory usage: 625.1+ KB\n",
            "None\n",
            "   Crime ID    Crime Type   Latitude  Longitude        Date and Time  \\\n",
            "0         1  Drug Dealing  11.057173  77.066438  2018-06-25 17:25:00   \n",
            "1         2          Rape  10.999253  76.918450  2015-05-16 02:09:00   \n",
            "2         3        Murder  10.950076  76.947931  2020-02-06 22:59:00   \n",
            "3         4  Drug Dealing  10.937317  76.924746  2015-03-11 06:22:00   \n",
            "4         5         POCSO  10.973344  76.991367  2023-02-20 01:02:00   \n",
            "\n",
            "   Severity            Area  Victims Weather Crime Outcome  \n",
            "0         3         Podanur        5   Foggy   In-progress  \n",
            "1         2  Saibaba Colony        5   Foggy   In-progress  \n",
            "2         2         Podanur        3   Foggy      Resolved  \n",
            "3         1         Podanur        1   Foggy    Unresolved  \n",
            "4         3    Kuniyamuthur        1  Cloudy   In-progress  \n",
            "Columns in dataset: Index(['Crime ID', 'Crime Type', 'Latitude', 'Longitude', 'Date and Time',\n",
            "       'Severity', 'Area', 'Victims', 'Weather', 'Crime Outcome'],\n",
            "      dtype='object')\n",
            "Missing values in dataset:\n",
            "Crime ID         0\n",
            "Crime Type       0\n",
            "Latitude         0\n",
            "Longitude        0\n",
            "Date and Time    0\n",
            "Severity         0\n",
            "Area             0\n",
            "Victims          0\n",
            "Weather          0\n",
            "Crime Outcome    0\n",
            "dtype: int64\n"
          ]
        }
      ],
      "source": [
        "import os\n",
        "import pandas as pd\n",
        "\n",
        "# Check if the file exists\n",
        "print(\"Current Directory:\", os.getcwd())\n",
        "print(\"File Exists:\", os.path.isfile(\"/content/drive/MyDrive/crime predictor/synthetic_crime_data_coimbatore.csv\"))\n",
        "\n",
        "# Load the dataset\n",
        "crime_data = pd.read_csv(\"/content/drive/MyDrive/crime predictor/synthetic_crime_data_coimbatore.csv\")\n",
        "\n",
        "# Show basic info about the dataset\n",
        "print(crime_data.info())\n",
        "\n",
        "# Show the first few rows of the dataset\n",
        "print(crime_data.head())\n",
        "\n",
        "# Check the columns in the dataset\n",
        "print(\"Columns in dataset:\", crime_data.columns)\n",
        "\n",
        "# Check for missing values\n",
        "print(\"Missing values in dataset:\")\n",
        "print(crime_data.isnull().sum())\n"
      ]
    },
    {
      "cell_type": "code",
      "execution_count": null,
      "metadata": {
        "id": "F0vNPYB_VTzW"
      },
      "outputs": [],
      "source": [
        "from sklearn.ensemble import RandomForestClassifier\n",
        "from sklearn.metrics import accuracy_score, classification_report\n"
      ]
    },
    {
      "cell_type": "code",
      "execution_count": null,
      "metadata": {
        "id": "63s2YzUxWXXj"
      },
      "outputs": [],
      "source": [
        "# Initialize the Random Forest model\n",
        "rf_model = RandomForestClassifier(n_estimators=100, random_state=42)\n"
      ]
    },
    {
      "cell_type": "code",
      "execution_count": null,
      "metadata": {
        "colab": {
          "base_uri": "https://localhost:8080/"
        },
        "id": "H5wlqZ-_nx4D",
        "outputId": "d2be37bf-5d23-4add-a915-12b0399fc40d"
      },
      "outputs": [
        {
          "output_type": "stream",
          "name": "stdout",
          "text": [
            "Columns in dataset: Index(['Crime ID', 'Crime Type', 'Latitude', 'Longitude', 'Date and Time',\n",
            "       'Severity', 'Area', 'Victims', 'Weather', 'Crime Outcome'],\n",
            "      dtype='object')\n",
            "Missing values in dataset:\n",
            "Crime ID         0\n",
            "Crime Type       0\n",
            "Latitude         0\n",
            "Longitude        0\n",
            "Date and Time    0\n",
            "Severity         0\n",
            "Area             0\n",
            "Victims          0\n",
            "Weather          0\n",
            "Crime Outcome    0\n",
            "dtype: int64\n",
            "Training data size: (6400, 9)\n",
            "Test data size: (1600, 9)\n"
          ]
        }
      ],
      "source": [
        "import pandas as pd\n",
        "from sklearn.model_selection import train_test_split\n",
        "from sklearn.preprocessing import LabelEncoder\n",
        "\n",
        "# Load the dataset\n",
        "crime_data = pd.read_csv(\"/content/drive/MyDrive/crime predictor/synthetic_crime_data_coimbatore.csv\")\n",
        "\n",
        "# Check for missing values and print column names\n",
        "print(\"Columns in dataset:\", crime_data.columns)\n",
        "print(\"Missing values in dataset:\")\n",
        "print(crime_data.isnull().sum())\n",
        "\n",
        "# Define features (X) and target (y)\n",
        "X = crime_data.drop(\"Crime Outcome\", axis=1)  # Drop the target column from features\n",
        "y = crime_data[\"Crime Outcome\"]  # Target variable\n",
        "\n",
        "# Initialize label encoders for categorical columns\n",
        "le_crime_type = LabelEncoder()\n",
        "le_area = LabelEncoder()\n",
        "\n",
        "# Encode categorical variables (adjust based on actual column names)\n",
        "if 'Crime Type' in X.columns:\n",
        "    X['Crime Type'] = le_crime_type.fit_transform(X['Crime Type'])\n",
        "if 'Area' in X.columns:\n",
        "    X['Area'] = le_area.fit_transform(X['Area'])\n",
        "\n",
        "# Split the data: 80% training and 20% testing\n",
        "X_train, X_test, y_train, y_test = train_test_split(X, y, test_size=0.2, random_state=42)\n",
        "\n",
        "# Show the sizes of the splits\n",
        "print(f\"Training data size: {X_train.shape}\")\n",
        "print(f\"Test data size: {X_test.shape}\")\n"
      ]
    },
    {
      "cell_type": "code",
      "execution_count": null,
      "metadata": {
        "colab": {
          "base_uri": "https://localhost:8080/"
        },
        "id": "mC4wo4FcobFd",
        "outputId": "450fdcc3-a645-42d2-b147-afb884421c28"
      },
      "outputs": [
        {
          "output_type": "stream",
          "name": "stdout",
          "text": [
            "   Crime ID    Crime Type   Latitude  Longitude        Date and Time  \\\n",
            "0         1  Drug Dealing  11.057173  77.066438  2018-06-25 17:25:00   \n",
            "1         2          Rape  10.999253  76.918450  2015-05-16 02:09:00   \n",
            "2         3        Murder  10.950076  76.947931  2020-02-06 22:59:00   \n",
            "3         4  Drug Dealing  10.937317  76.924746  2015-03-11 06:22:00   \n",
            "4         5         POCSO  10.973344  76.991367  2023-02-20 01:02:00   \n",
            "\n",
            "   Severity            Area  Victims Weather Crime Outcome  \n",
            "0         3         Podanur        5   Foggy   In-progress  \n",
            "1         2  Saibaba Colony        5   Foggy   In-progress  \n",
            "2         2         Podanur        3   Foggy      Resolved  \n",
            "3         1         Podanur        1   Foggy    Unresolved  \n",
            "4         3    Kuniyamuthur        1  Cloudy   In-progress  \n"
          ]
        },
        {
          "output_type": "stream",
          "name": "stderr",
          "text": [
            "<ipython-input-13-76f418b3d5b6>:26: SettingWithCopyWarning: \n",
            "A value is trying to be set on a copy of a slice from a DataFrame.\n",
            "Try using .loc[row_indexer,col_indexer] = value instead\n",
            "\n",
            "See the caveats in the documentation: https://pandas.pydata.org/pandas-docs/stable/user_guide/indexing.html#returning-a-view-versus-a-copy\n",
            "  X[['Latitude', 'Longitude', 'Severity', 'Victims', 'Hour', 'Day']] = scaler.fit_transform(X[['Latitude', 'Longitude', 'Severity', 'Victims', 'Hour', 'Day']])\n"
          ]
        },
        {
          "output_type": "stream",
          "name": "stdout",
          "text": [
            "Confusion Matrix:\n",
            "[[52 51 56 50 36 34]\n",
            " [48 48 40 55 45 21]\n",
            " [42 43 41 49 49 39]\n",
            " [50 51 49 49 58 28]\n",
            " [53 47 40 47 55 33]\n",
            " [41 45 35 42 46 32]]\n",
            "\n",
            "Classification Report:\n",
            "              precision    recall  f1-score   support\n",
            "\n",
            " Chain Theft       0.18      0.19      0.18       279\n",
            "Drug Dealing       0.17      0.19      0.18       257\n",
            "      Murder       0.16      0.16      0.16       263\n",
            "       POCSO       0.17      0.17      0.17       285\n",
            "        Rape       0.19      0.20      0.20       275\n",
            "     Robbery       0.17      0.13      0.15       241\n",
            "\n",
            "    accuracy                           0.17      1600\n",
            "   macro avg       0.17      0.17      0.17      1600\n",
            "weighted avg       0.17      0.17      0.17      1600\n",
            "\n",
            "\n",
            "Feature Importance:\n",
            "     Feature  Importance\n",
            "1  Longitude    0.273627\n",
            "0   Latitude    0.272434\n",
            "4       Hour    0.173204\n",
            "5        Day    0.107309\n",
            "3    Victims    0.089280\n",
            "2   Severity    0.084146\n"
          ]
        }
      ],
      "source": [
        "import pandas as pd\n",
        "from sklearn.model_selection import train_test_split\n",
        "from sklearn.preprocessing import MinMaxScaler\n",
        "from sklearn.ensemble import RandomForestClassifier\n",
        "from sklearn.metrics import classification_report, confusion_matrix\n",
        "import numpy as np\n",
        "\n",
        "# Load the dataset\n",
        "crime_data = pd.read_csv(\"/content/drive/MyDrive/crime predictor/synthetic_crime_data_coimbatore.csv\")\n",
        "\n",
        "# Display the first few rows of the dataset\n",
        "print(crime_data.head())\n",
        "\n",
        "# Data Preprocessing\n",
        "# Convert 'Date and Time' to datetime format and extract features\n",
        "crime_data['Date and Time'] = pd.to_datetime(crime_data['Date and Time'])\n",
        "crime_data['Hour'] = crime_data['Date and Time'].dt.hour\n",
        "crime_data['Day'] = crime_data['Date and Time'].dt.dayofweek  # 0=Monday, 6=Sunday\n",
        "\n",
        "# Define the features and target variable\n",
        "X = crime_data[['Latitude', 'Longitude', 'Severity', 'Victims', 'Hour', 'Day']]\n",
        "y = crime_data['Crime Type']\n",
        "\n",
        "# Feature Scaling\n",
        "scaler = MinMaxScaler()\n",
        "X[['Latitude', 'Longitude', 'Severity', 'Victims', 'Hour', 'Day']] = scaler.fit_transform(X[['Latitude', 'Longitude', 'Severity', 'Victims', 'Hour', 'Day']])\n",
        "\n",
        "# Split the dataset into training and testing sets\n",
        "X_train, X_test, y_train, y_test = train_test_split(X, y, test_size=0.2, random_state=42)\n",
        "\n",
        "# Initialize the Random Forest Classifier\n",
        "rf_model = RandomForestClassifier(n_estimators=100, random_state=42)\n",
        "\n",
        "# Train the model\n",
        "rf_model.fit(X_train, y_train)\n",
        "\n",
        "# Make predictions\n",
        "y_pred = rf_model.predict(X_test)\n",
        "\n",
        "# Evaluate the model\n",
        "print(\"Confusion Matrix:\")\n",
        "print(confusion_matrix(y_test, y_pred))\n",
        "\n",
        "print(\"\\nClassification Report:\")\n",
        "print(classification_report(y_test, y_pred))\n",
        "\n",
        "# Feature Importance\n",
        "importances = rf_model.feature_importances_\n",
        "feature_names = X.columns\n",
        "feature_importance = pd.DataFrame({'Feature': feature_names, 'Importance': importances})\n",
        "feature_importance = feature_importance.sort_values(by='Importance', ascending=False)\n",
        "\n",
        "print(\"\\nFeature Importance:\")\n",
        "print(feature_importance)\n"
      ]
    },
    {
      "cell_type": "code",
      "execution_count": null,
      "metadata": {
        "id": "PJiru_ZQq7Ip"
      },
      "outputs": [],
      "source": [
        "from sklearn.model_selection import GridSearchCV\n",
        "from sklearn.ensemble import RandomForestClassifier\n",
        "from sklearn.metrics import classification_report, confusion_matrix\n"
      ]
    },
    {
      "cell_type": "code",
      "execution_count": null,
      "metadata": {
        "id": "i-MdGfT6q9nU"
      },
      "outputs": [],
      "source": [
        "param_grid = {\n",
        "    'n_estimators': [100, 200, 300],  # Number of trees in the forest\n",
        "    'max_depth': [10, 20, 30, None],  # Maximum depth of the trees\n",
        "    'min_samples_split': [2, 5, 10],  # Minimum number of samples required to split a node\n",
        "    'min_samples_leaf': [1, 2, 4],    # Minimum number of samples required at a leaf node\n",
        "    'bootstrap': [True, False]        # Whether bootstrap samples are used when building trees\n",
        "}\n"
      ]
    },
    {
      "cell_type": "code",
      "execution_count": null,
      "metadata": {
        "id": "o2tizSzIrJvq"
      },
      "outputs": [],
      "source": [
        "rf_model = RandomForestClassifier(random_state=42)\n",
        "\n",
        "# Set up GridSearchCV\n",
        "grid_search = GridSearchCV(estimator=rf_model,\n",
        "                           param_grid=param_grid,\n",
        "                           cv=3,  # 3-fold cross-validation\n",
        "                           n_jobs=-1,  # Use all available processors\n",
        "                           verbose=2,  # Output progress\n",
        "                           scoring='accuracy')  # You can use other metrics like f1-score if needed\n"
      ]
    },
    {
      "cell_type": "code",
      "execution_count": null,
      "metadata": {
        "id": "SRiaXXVD2t5g"
      },
      "outputs": [],
      "source": [
        "from sklearn.model_selection import train_test_split, GridSearchCV\n",
        "from sklearn.ensemble import RandomForestClassifier\n",
        "\n",
        "# Assuming you have already loaded and preprocessed your dataset\n",
        "# Split your data\n",
        "X_train, X_test, y_train, y_test = train_test_split(X, y, test_size=0.2, random_state=42)\n",
        "\n",
        "# Define and fit the Random Forest model using GridSearchCV\n",
        "rf_model = RandomForestClassifier()\n",
        "\n",
        "# Define the parameter grid\n",
        "param_grid = {\n",
        "    'n_estimators': [100],\n",
        "    'max_depth': [None, 10],\n",
        "    'min_samples_split': [2],\n",
        "    'min_samples_leaf': [1]\n",
        "}\n",
        "\n",
        "# Create the GridSearchCV object\n",
        "grid_search = GridSearchCV(estimator=rf_model, param_grid=param_grid, cv=3, scoring='accuracy', n_jobs=-1)\n",
        "\n",
        "# Fit the grid search\n",
        "grid_search.fit(X_train, y_train)\n",
        "\n",
        "# Retrieve the best model from grid search\n",
        "best_rf_model = grid_search.best_estimator_\n",
        "\n"
      ]
    },
    {
      "cell_type": "code",
      "execution_count": null,
      "metadata": {
        "colab": {
          "base_uri": "https://localhost:8080/",
          "height": 1000
        },
        "id": "3-m1sgnF37Ia",
        "outputId": "289a87c2-95ca-4216-e439-d78bab701f99"
      },
      "outputs": [
        {
          "output_type": "stream",
          "name": "stdout",
          "text": [
            "Confusion Matrix:\n",
            "[[51 43 40 78 39 28]\n",
            " [41 29 55 81 42  9]\n",
            " [35 30 41 87 52 18]\n",
            " [48 35 52 83 51 16]\n",
            " [38 35 39 81 58 24]\n",
            " [37 35 37 73 43 16]]\n"
          ]
        },
        {
          "output_type": "display_data",
          "data": {
            "text/plain": [
              "<Figure size 800x600 with 2 Axes>"
            ],
            "image/png": "[encoded data removed]"
          },
          "metadata": {}
        },
        {
          "output_type": "stream",
          "name": "stdout",
          "text": [
            "\n",
            "Classification Report:\n",
            "              precision    recall  f1-score   support\n",
            "\n",
            " Chain Theft       0.20      0.18      0.19       279\n",
            "Drug Dealing       0.14      0.11      0.12       257\n",
            "      Murder       0.16      0.16      0.16       263\n",
            "       POCSO       0.17      0.29      0.22       285\n",
            "        Rape       0.20      0.21      0.21       275\n",
            "     Robbery       0.14      0.07      0.09       241\n",
            "\n",
            "    accuracy                           0.17      1600\n",
            "   macro avg       0.17      0.17      0.16      1600\n",
            "weighted avg       0.17      0.17      0.17      1600\n",
            "\n"
          ]
        }
      ],
      "source": [
        "from sklearn.metrics import confusion_matrix, classification_report\n",
        "import seaborn as sns\n",
        "import matplotlib.pyplot as plt\n",
        "\n",
        "# Predict on the test set\n",
        "y_pred = best_rf_model.predict(X_test)\n",
        "\n",
        "# Confusion Matrix\n",
        "cm = confusion_matrix(y_test, y_pred)\n",
        "print(\"Confusion Matrix:\")\n",
        "print(cm)\n",
        "\n",
        "# Display confusion matrix as a heatmap\n",
        "plt.figure(figsize=(8, 6))\n",
        "sns.heatmap(cm, annot=True, fmt='d', cmap='Blues', xticklabels=sorted(set(y_test)), yticklabels=sorted(set(y_test)))\n",
        "plt.ylabel('True label')\n",
        "plt.xlabel('Predicted label')\n",
        "plt.title('Confusion Matrix')\n",
        "plt.show()\n",
        "\n",
        "# Classification Report\n",
        "print(\"\\nClassification Report:\")\n",
        "print(classification_report(y_test, y_pred))\n"
      ]
    },
    {
      "cell_type": "code",
      "execution_count": null,
      "metadata": {
        "colab": {
          "base_uri": "https://localhost:8080/"
        },
        "id": "K6qWc7jgyNs-",
        "outputId": "8363e44e-37ff-4bae-95d7-0176db69e560"
      },
      "outputs": [
        {
          "output_type": "stream",
          "name": "stdout",
          "text": [
            "Misclassified examples:\n",
            "      Latitude  Longitude  Severity  Victims      Hour       Day\n",
            "2215  0.327844   0.730925      0.75     0.75  0.913043  0.833333\n",
            "2582  0.150923   0.237953      1.00     0.50  0.130435  0.500000\n",
            "1662  0.977713   0.168288      0.25     1.00  0.173913  0.166667\n",
            "3027  0.900845   0.699064      0.00     1.00  0.782609  0.833333\n",
            "4343  0.391209   0.467461      1.00     0.75  0.608696  0.500000\n",
            "...        ...        ...       ...      ...       ...       ...\n",
            "1079  0.716111   0.308957      0.00     0.75  0.652174  0.666667\n",
            "7979  0.254100   0.974914      0.50     0.00  0.130435  0.666667\n",
            "1115  0.571803   0.166512      0.50     0.00  0.521739  0.666667\n",
            "6093  0.985285   0.972094      0.25     1.00  0.304348  0.500000\n",
            "6832  0.211434   0.220235      0.25     1.00  0.652174  0.666667\n",
            "\n",
            "[1322 rows x 6 columns]\n"
          ]
        }
      ],
      "source": [
        "misclassified = X_test[y_test != y_pred]\n",
        "print(\"Misclassified examples:\")\n",
        "print(misclassified)\n"
      ]
    },
    {
      "cell_type": "code",
      "execution_count": null,
      "metadata": {
        "colab": {
          "base_uri": "https://localhost:8080/"
        },
        "id": "_VUWVG4cyRA7",
        "outputId": "8acbb8b1-4f26-4183-be63-8876278dc452"
      },
      "outputs": [
        {
          "output_type": "stream",
          "name": "stdout",
          "text": [
            "Cross-validation scores: [0.165625 0.160625 0.165625 0.165    0.1675  ]\n",
            "Mean accuracy: 0.164875\n"
          ]
        }
      ],
      "source": [
        "from sklearn.model_selection import cross_val_score\n",
        "\n",
        "scores = cross_val_score(rf_model, X, y, cv=5)\n",
        "print(\"Cross-validation scores:\", scores)\n",
        "print(\"Mean accuracy:\", scores.mean())\n"
      ]
    },
    {
      "cell_type": "code",
      "execution_count": null,
      "metadata": {
        "colab": {
          "base_uri": "https://localhost:8080/",
          "height": 472
        },
        "id": "AN_Sr0Dszh1k",
        "outputId": "782a2728-b291-474e-e8aa-25cca6378c28"
      },
      "outputs": [
        {
          "output_type": "display_data",
          "data": {
            "text/plain": [
              "<Figure size 640x480 with 2 Axes>"
            ],
            "image/png": "[encoded data removed]"
          },
          "metadata": {}
        }
      ],
      "source": [
        "from sklearn.metrics import ConfusionMatrixDisplay, confusion_matrix\n",
        "\n",
        "# Compute confusion matrix\n",
        "cm = confusion_matrix(y_test, y_pred)\n",
        "\n",
        "# Display confusion matrix with labels from y_test\n",
        "disp = ConfusionMatrixDisplay(confusion_matrix=cm, display_labels=sorted(set(y_test)))\n",
        "\n",
        "# Plot the confusion matrix\n",
        "disp.plot(cmap=plt.cm.Blues)\n",
        "\n",
        "plt.title('Confusion Matrix')\n",
        "plt.show()\n"
      ]
    },
    {
      "cell_type": "code",
      "execution_count": null,
      "metadata": {
        "colab": {
          "base_uri": "https://localhost:8080/"
        },
        "id": "61fBJggwzzOJ",
        "outputId": "8c81124b-80d0-468d-9fa1-d012073159eb"
      },
      "outputs": [
        {
          "output_type": "stream",
          "name": "stdout",
          "text": [
            "Classification Report:\n",
            "              precision    recall  f1-score   support\n",
            "\n",
            " Chain Theft       0.20      0.18      0.19       279\n",
            "Drug Dealing       0.14      0.11      0.12       257\n",
            "      Murder       0.16      0.16      0.16       263\n",
            "       POCSO       0.17      0.29      0.22       285\n",
            "        Rape       0.20      0.21      0.21       275\n",
            "     Robbery       0.14      0.07      0.09       241\n",
            "\n",
            "    accuracy                           0.17      1600\n",
            "   macro avg       0.17      0.17      0.16      1600\n",
            "weighted avg       0.17      0.17      0.17      1600\n",
            "\n"
          ]
        }
      ],
      "source": [
        "from sklearn.metrics import classification_report\n",
        "\n",
        "print(\"Classification Report:\")\n",
        "print(classification_report(y_test, y_pred))\n"
      ]
    },
    {
      "cell_type": "code",
      "execution_count": null,
      "metadata": {
        "colab": {
          "base_uri": "https://localhost:8080/"
        },
        "id": "IofwNIwM0J9S",
        "outputId": "6e3584ae-1d51-401c-8356-a70731e92ade"
      },
      "outputs": [
        {
          "output_type": "execute_result",
          "data": {
            "text/plain": [
              "0"
            ]
          },
          "metadata": {},
          "execution_count": 23
        }
      ],
      "source": [
        "from sklearn.ensemble import RandomForestClassifier\n",
        "\n",
        "# Assuming X_train and y_train are your training data and labels\n",
        "rf_model = RandomForestClassifier(random_state=42)  # You can add hyperparameters as needed\n",
        "rf_model.fit(X_train, y_train)  # Fit the model\n",
        "0"
      ]
    },
    {
      "cell_type": "code",
      "execution_count": null,
      "metadata": {
        "colab": {
          "base_uri": "https://localhost:8080/",
          "height": 564
        },
        "id": "oXia9oS40NAn",
        "outputId": "616657ca-0c4b-4313-b897-cc105e5b96c1"
      },
      "outputs": [
        {
          "output_type": "display_data",
          "data": {
            "text/plain": [
              "<Figure size 1000x600 with 1 Axes>"
            ],
            "image/png": "[encoded data removed]"
          },
          "metadata": {}
        }
      ],
      "source": [
        "importances = rf_model.feature_importances_\n",
        "feature_names = X.columns\n",
        "\n",
        "# Create a DataFrame for feature importances\n",
        "feature_importances = pd.DataFrame(importances, index=feature_names, columns=[\"Importance\"])\n",
        "feature_importances = feature_importances.sort_values(by=\"Importance\", ascending=False)\n",
        "\n",
        "# Plot feature importances\n",
        "plt.figure(figsize=(10, 6))\n",
        "sns.barplot(x=feature_importances.Importance, y=feature_importances.index)\n",
        "plt.title('Feature Importance')\n",
        "plt.show()\n"
      ]
    },
    {
      "cell_type": "code",
      "execution_count": null,
      "metadata": {
        "colab": {
          "base_uri": "https://localhost:8080/"
        },
        "id": "Zy3LqNlq02Li",
        "outputId": "8a094e11-adc2-42d8-ea4b-5a7bd43886c5"
      },
      "outputs": [
        {
          "output_type": "stream",
          "name": "stdout",
          "text": [
            "Best parameters found:  {'max_depth': 10, 'min_samples_leaf': 1, 'min_samples_split': 2, 'n_estimators': 100}\n"
          ]
        }
      ],
      "source": [
        "from sklearn.model_selection import GridSearchCV\n",
        "\n",
        "# Define a minimal parameter grid\n",
        "param_grid = {\n",
        "    'n_estimators': [100],  # Use only one value for quicker testing\n",
        "    'max_depth': [None, 10],  # Fewer depth options\n",
        "    'min_samples_split': [2],  # One value for quicker tuning\n",
        "    'min_samples_leaf': [1]   # One value for quicker tuning\n",
        "}\n",
        "\n",
        "# Create the GridSearchCV object with reduced parameters\n",
        "grid_search = GridSearchCV(estimator=rf_model, param_grid=param_grid, cv=3, scoring='accuracy', n_jobs=-1)\n",
        "grid_search.fit(X_train, y_train)\n",
        "\n",
        "print(\"Best parameters found: \", grid_search.best_params_)\n"
      ]
    },
    {
      "cell_type": "code",
      "execution_count": null,
      "metadata": {
        "colab": {
          "base_uri": "https://localhost:8080/"
        },
        "id": "qaWOAbsx1HKe",
        "outputId": "27a2c42e-51ac-4180-dd60-988975f17724"
      },
      "outputs": [
        {
          "output_type": "execute_result",
          "data": {
            "text/plain": [
              "['random_forest_model.pkl']"
            ]
          },
          "metadata": {},
          "execution_count": 26
        }
      ],
      "source": [
        "import joblib\n",
        "\n",
        "joblib.dump(rf_model, 'random_forest_model.pkl')\n"
      ]
    },
    {
      "cell_type": "code",
      "execution_count": null,
      "metadata": {
        "colab": {
          "base_uri": "https://localhost:8080/"
        },
        "id": "YJSZk3RL1KYy",
        "outputId": "686b5a87-71b6-4fc2-c41c-c5097a2e43ce"
      },
      "outputs": [
        {
          "output_type": "stream",
          "name": "stdout",
          "text": [
            " * Serving Flask app '__main__'\n",
            " * Debug mode: on\n"
          ]
        },
        {
          "output_type": "stream",
          "name": "stderr",
          "text": [
            "INFO:werkzeug:\u001b[31m\u001b[1mWARNING: This is a development server. Do not use it in a production deployment. Use a production WSGI server instead.\u001b[0m\n",
            " * Running on http://127.0.0.1:5000\n",
            "INFO:werkzeug:\u001b[33mPress CTRL+C to quit\u001b[0m\n",
            "INFO:werkzeug: * Restarting with stat\n"
          ]
        }
      ],
      "source": [
        "from flask import Flask, request, jsonify\n",
        "import joblib\n",
        "import pandas as pd\n",
        "\n",
        "app = Flask(__name__)\n",
        "model = joblib.load('random_forest_model.pkl')\n",
        "\n",
        "@app.route('/predict', methods=['POST'])\n",
        "def predict():\n",
        "    data = request.get_json(force=True)\n",
        "    input_data = pd.DataFrame(data, index=[0])  # Convert to DataFrame\n",
        "    prediction = model.predict(input_data)\n",
        "    return jsonify({'prediction': prediction[0]})\n",
        "\n",
        "if __name__ == '__main__':\n",
        "    app.run(debug=True)\n"
      ]
    },
    {
      "cell_type": "code",
      "execution_count": null,
      "metadata": {
        "id": "voHGR2MA5Oax"
      },
      "outputs": [],
      "source": [
        "import pickle\n",
        "\n",
        "# Load the saved model from the .pkl file\n",
        "with open('/content/random_forest_model.pkl', 'rb') as file:\n",
        "    best_rf_model = pickle.load(file)\n"
      ]
    },
    {
      "cell_type": "code",
      "execution_count": null,
      "metadata": {
        "id": "URdwTdVQ5eet",
        "colab": {
          "base_uri": "https://localhost:8080/"
        },
        "outputId": "bb0a67ae-658d-4a2e-b3ea-544c3ef5d6b0"
      },
      "outputs": [
        {
          "output_type": "stream",
          "name": "stdout",
          "text": [
            "Confusion Matrix:\n",
            "[[52 51 56 50 36 34]\n",
            " [48 48 40 55 45 21]\n",
            " [42 43 41 49 49 39]\n",
            " [50 51 49 49 58 28]\n",
            " [53 47 40 47 55 33]\n",
            " [41 45 35 42 46 32]]\n",
            "\n",
            "Classification Report:\n",
            "              precision    recall  f1-score   support\n",
            "\n",
            " Chain Theft       0.18      0.19      0.18       279\n",
            "Drug Dealing       0.17      0.19      0.18       257\n",
            "      Murder       0.16      0.16      0.16       263\n",
            "       POCSO       0.17      0.17      0.17       285\n",
            "        Rape       0.19      0.20      0.20       275\n",
            "     Robbery       0.17      0.13      0.15       241\n",
            "\n",
            "    accuracy                           0.17      1600\n",
            "   macro avg       0.17      0.17      0.17      1600\n",
            "weighted avg       0.17      0.17      0.17      1600\n",
            "\n"
          ]
        }
      ],
      "source": [
        "import joblib  # Import joblib\n",
        "\n",
        "# Load the saved model from the .pkl file using joblib\n",
        "best_rf_model = joblib.load('/content/random_forest_model.pkl')\n",
        "\n",
        "# Now that the model is correctly loaded, use it to predict\n",
        "y_pred = best_rf_model.predict(X_test)\n",
        "\n",
        "# Confusion Matrix and Classification Report\n",
        "from sklearn.metrics import confusion_matrix, classification_report\n",
        "\n",
        "# Confusion Matrix\n",
        "cm = confusion_matrix(y_test, y_pred)\n",
        "print(\"Confusion Matrix:\")\n",
        "print(cm)\n",
        "\n",
        "# Classification Report\n",
        "print(\"\\nClassification Report:\")\n",
        "print(classification_report(y_test, y_pred))"
      ]
    },
    {
      "cell_type": "code",
      "execution_count": null,
      "metadata": {
        "colab": {
          "base_uri": "https://localhost:8080/",
          "height": 600
        },
        "id": "owTGNJNS7Nsu",
        "outputId": "62bac779-92a8-4509-8519-e4e1ab71e065"
      },
      "outputs": [
        {
          "output_type": "display_data",
          "data": {
            "text/plain": [
              "<Figure size 1000x600 with 1 Axes>"
            ],
            "image/png": "[encoded data removed]"
          },
          "metadata": {}
        }
      ],
      "source": [
        "import pandas as pd\n",
        "importances = best_rf_model.feature_importances_\n",
        "feature_names = X.columns\n",
        "\n",
        "# Create a DataFrame for feature importances\n",
        "feature_importances = pd.DataFrame(importances, index=feature_names, columns=[\"Importance\"]).sort_values(by=\"Importance\", ascending=False)\n",
        "\n",
        "# Plot the feature importances\n",
        "feature_importances.plot(kind='bar', figsize=(10,6))\n",
        "plt.title(\"Feature Importance\")\n",
        "plt.show()\n"
      ]
    },
    {
      "cell_type": "code",
      "execution_count": null,
      "metadata": {
        "id": "QO_inAI47rvB"
      },
      "outputs": [],
      "source": [
        "import pickle\n",
        "with open('model.pkl', 'wb') as file:\n",
        "    pickle.dump(model, file)\n"
      ]
    },
    {
      "cell_type": "code",
      "execution_count": null,
      "metadata": {
        "id": "EjgMMPIU83Z8"
      },
      "outputs": [],
      "source": [
        "import pandas as pd\n",
        "\n",
        "# Example: Creating a single new instance with the same columns\n",
        "new_data = pd.DataFrame({\n",
        "    'Crime Type': ['Murder'],\n",
        "    'Latitude': [11.015],\n",
        "    'Longitude': [76.955],\n",
        "    'Date and Time': ['2024-10-23 12:45:00'],\n",
        "    'Severity': [2],\n",
        "    'Area': ['Kuniyamuthur'],\n",
        "    'Victims': [1],\n",
        "    'Weather': ['Clear'],\n",
        "    # Add other necessary columns\n",
        "})\n",
        "\n",
        "# Make sure that you apply the same preprocessing steps (encoding, scaling) to the new data\n"
      ]
    },
    {
      "cell_type": "code",
      "execution_count": null,
      "metadata": {
        "id": "hq4-m8Rz9Hdb",
        "colab": {
          "base_uri": "https://localhost:8080/"
        },
        "outputId": "3bb4b374-c2f1-48ee-8f22-f00629fca960"
      },
      "outputs": [
        {
          "output_type": "stream",
          "name": "stdout",
          "text": [
            "  Crime Type  Latitude  Longitude        Date and Time  Severity         Area  \\\n",
            "0       Rape    11.015     76.955  2024-10-23 12:45:00         7  Gandhipuram   \n",
            "1      Theft    10.992     77.005  2024-09-19 15:30:00         3      Podanur   \n",
            "2   Burglary    11.005     77.040  2024-11-12 09:00:00         5    Peelamedu   \n",
            "\n",
            "   Victims Weather  \n",
            "0        5  Cloudy  \n",
            "1        2  Cloudy  \n",
            "2        3   Clear  \n"
          ]
        }
      ],
      "source": [
        "#import pandas as pd\n",
        "\n",
        "# Creating new instances for prediction\n",
        "new_data = pd.DataFrame({\n",
        "    'Crime Type': ['Rape', 'Theft', 'Burglary'],\n",
        "    'Latitude': [11.015, 10.992, 11.005],\n",
        "    'Longitude': [76.955, 77.005, 77.040],\n",
        "    'Date and Time': ['2024-10-23 12:45:00', '2024-09-19 15:30:00', '2024-11-12 09:00:00'],\n",
        "    'Severity': [7, 3, 5],\n",
        "    'Area': ['Gandhipuram', 'Podanur', 'Peelamedu'],\n",
        "    'Victims': [5, 2, 3],\n",
        "    'Weather': ['Cloudy', 'Cloudy', 'Clear'],\n",
        "})\n",
        "\n",
        "print(new_data)\n",
        "\n"
      ]
    },
    {
      "cell_type": "code",
      "execution_count": null,
      "metadata": {
        "id": "uMXD6Oxp9NNl"
      },
      "outputs": [],
      "source": [
        "# Apply same encoding\n",
        "new_data_encoded = pd.get_dummies(new_data, columns=['Area'], drop_first=True)\n",
        "\n",
        "# Ensure the order of columns matches the training set\n",
        "new_data_encoded = new_data_encoded.reindex(columns=X.columns, fill_value=0)\n",
        "\n",
        "# Now make predictions\n",
        "predictions = model.predict(new_data_encoded)\n"
      ]
    },
    {
      "cell_type": "code",
      "execution_count": null,
      "metadata": {
        "id": "t5dLHOtB9QK0",
        "colab": {
          "base_uri": "https://localhost:8080/"
        },
        "outputId": "0fdc9bcd-ee2b-47cb-d3ea-89427caa5ec3"
      },
      "outputs": [
        {
          "output_type": "stream",
          "name": "stdout",
          "text": [
            "['Drug Dealing' 'Drug Dealing' 'Drug Dealing']\n"
          ]
        }
      ],
      "source": [
        "# Now proceed with predictions\n",
        "predictions = model.predict(new_data_encoded)\n",
        "\n",
        "# Output predictions\n",
        "print(predictions)\n"
      ]
    }
  ],
  "metadata": {
    "colab": {
      "provenance": [],
      "mount_file_id": "1YL-1tnvKK2RmWaMOmZjjhPeyL8v2Ir3W",
      "authorship_tag": "ABX9TyP5Eow09o+7+DkhpfLaBUZJ",
      "include_colab_link": true
    },
    "kernelspec": {
      "display_name": "Python 3",
      "name": "python3"
    },
    "language_info": {
      "name": "python"
    }
  },
  "nbformat": 4,
  "nbformat_minor": 0
}